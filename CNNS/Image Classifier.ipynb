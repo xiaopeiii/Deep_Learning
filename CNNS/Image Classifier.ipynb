{
 "cells": [
  {
   "cell_type": "code",
   "execution_count": 1,
   "id": "d479da47-306a-47d3-9560-c92aa7d02dad",
   "metadata": {},
   "outputs": [
    {
     "data": {
      "text/plain": [
       "(50000, 50000, torch.Size([50000, 3, 32, 32]))"
      ]
     },
     "execution_count": 1,
     "metadata": {},
     "output_type": "execute_result"
    }
   ],
   "source": [
    "import pickle\n",
    "import torch\n",
    "import numpy as np\n",
    "import os\n",
    "\n",
    "def unpickle(file):\n",
    "    with open(file, 'rb') as fo:\n",
    "        dict = pickle.load(fo, encoding='bytes')\n",
    "    return dict\n",
    "\n",
    "def load_cifar10_data(path='Data/cifar-10-batches-py'):\n",
    "    all_images = []\n",
    "    all_labels = []\n",
    "\n",
    "    # Iterate over all batch files\n",
    "    for batch in range(1, 6):  # CIFAR-10 has 5 training batches\n",
    "        batch_file = os.path.join(path, f'data_batch_{batch}')\n",
    "        data_dict = unpickle(batch_file)\n",
    "\n",
    "        # Extract data and labels\n",
    "        data = data_dict[b'data']\n",
    "        labels = data_dict[b'labels']\n",
    "\n",
    "        # Convert data to torch tensors and reshape to image format\n",
    "        data = data.reshape(10000, 3, 32, 32)  # Shape (10000, 3072) to (10000, 3, 32, 32)\n",
    "        data = torch.FloatTensor(data) / 255  # Normalize to [0, 1]\n",
    "\n",
    "        # Convert labels to tensor\n",
    "        labels = torch.tensor(labels, dtype=torch.long)\n",
    "\n",
    "        # Append to lists\n",
    "        all_images.append(data)\n",
    "        all_labels.append(labels)\n",
    "\n",
    "    # Concatenate all images and labels into final tensors\n",
    "    images = torch.cat(all_images)\n",
    "    labels = torch.cat(all_labels)\n",
    "\n",
    "    return images, labels\n",
    "\n",
    "xs, ys = load_cifar10_data()\n",
    "\n",
    "len(xs), len(ys), xs.shape"
   ]
  },
  {
   "cell_type": "code",
   "execution_count": 2,
   "id": "c5a192fb-b455-4d08-b6d4-720bf6fd8479",
   "metadata": {},
   "outputs": [
    {
     "data": {
      "text/plain": [
       "(781,\n",
       " torch.Size([64, 3, 32, 32]),\n",
       " tensor([4, 1, 1, 5, 5, 2, 8, 6, 1, 3, 7, 3, 4, 4, 8, 4, 8, 7, 8, 9, 9, 6, 1, 2,\n",
       "         1, 2, 4, 9, 0, 8, 3, 9, 3, 6, 8, 5, 3, 2, 4, 3, 7, 4, 5, 7, 2, 3, 9, 1,\n",
       "         9, 7, 1, 2, 6, 9, 3, 7, 0, 9, 8, 6, 0, 2, 3, 5]))"
      ]
     },
     "execution_count": 2,
     "metadata": {},
     "output_type": "execute_result"
    }
   ],
   "source": [
    "loader = torch.utils.data.DataLoader(dataset=list(zip(xs, ys)),\n",
    "                                     batch_size=64,\n",
    "                                     shuffle=True,\n",
    "                                     drop_last=True)\n",
    "\n",
    "# Accessing a batch from the DataLoader\n",
    "x, y = next(iter(loader))\n",
    "\n",
    "# Getting DataLoader length, batch shape, and label\n",
    "len(loader), x.shape, y"
   ]
  },
  {
   "cell_type": "code",
   "execution_count": 3,
   "id": "16e7fa46-6388-4665-a648-dbce0f800f78",
   "metadata": {},
   "outputs": [
    {
     "data": {
      "text/plain": [
       "torch.Size([8, 10])"
      ]
     },
     "execution_count": 3,
     "metadata": {},
     "output_type": "execute_result"
    }
   ],
   "source": [
    "# CNN Neural Network\n",
    "class Model(torch.nn.Module):\n",
    "\n",
    "    def __init__(self):\n",
    "        super().__init__()\n",
    "\n",
    "        # Convolutional layer 1\n",
    "        self.cnn1 = torch.nn.Conv2d(in_channels=3,\n",
    "                                    out_channels=16,\n",
    "                                    kernel_size=5,\n",
    "                                    stride=2,\n",
    "                                    padding=0)\n",
    "\n",
    "        # Convolutional layer 2\n",
    "        self.cnn2 = torch.nn.Conv2d(in_channels=16,\n",
    "                                    out_channels=32,\n",
    "                                    kernel_size=3,\n",
    "                                    stride=1,\n",
    "                                    padding=1)\n",
    "\n",
    "        # Convolutional layer 3\n",
    "        self.cnn3 = torch.nn.Conv2d(in_channels=32,\n",
    "                                    out_channels=128,\n",
    "                                    kernel_size=7,\n",
    "                                    stride=1,\n",
    "                                    padding=0)\n",
    "\n",
    "        # Pooling layer\n",
    "        self.pool = torch.nn.MaxPool2d(kernel_size=2, stride=2)\n",
    "\n",
    "        # Activation function\n",
    "        self.relu = torch.nn.ReLU()\n",
    "\n",
    "        # Fully connected layer\n",
    "        self.fc = torch.nn.Linear(in_features=128, out_features=10)\n",
    "\n",
    "    def forward(self, x):\n",
    "        # First convolution\n",
    "        # Input: [8, 3, 32, 32] -> Output: [8, 16, 14, 14]\n",
    "        x = self.cnn1(x)\n",
    "        x = self.relu(x)\n",
    "\n",
    "        # Second convolution\n",
    "        # Input: [8, 16, 14, 14] -> Output: [8, 32, 14, 14]\n",
    "        x = self.cnn2(x)\n",
    "        x = self.relu(x)\n",
    "\n",
    "        # Pooling layer\n",
    "        # Input: [8, 32, 14, 14] -> Output: [8, 32, 7, 7]\n",
    "        x = self.pool(x)\n",
    "\n",
    "        # Third convolution\n",
    "        # Input: [8, 32, 7, 7] -> Output: [8, 128, 1, 1]\n",
    "        x = self.cnn3(x)\n",
    "        x = self.relu(x)\n",
    "\n",
    "        # Flatten the tensor\n",
    "        # Input: [8, 128, 1, 1] -> Output: [8, 128]\n",
    "        x = x.flatten(start_dim=1)\n",
    "\n",
    "        # Linear output\n",
    "        # Input: [8, 128] -> Output: [8, 10]\n",
    "        return self.fc(x)\n",
    "\n",
    "# Instantiate the model\n",
    "model = Model()\n",
    "\n",
    "# Test forward pass\n",
    "output = model(torch.randn(8, 3, 32, 32))\n",
    "output.shape"
   ]
  },
  {
   "cell_type": "code",
   "execution_count": 4,
   "id": "d07db03c-1ee8-4dac-b398-dbba14a78b3d",
   "metadata": {},
   "outputs": [
    {
     "name": "stdout",
     "output_type": "stream",
     "text": [
      "0 0 2.2970781326293945 0.109375\n",
      "0 500 1.6805511713027954 0.421875\n",
      "1 0 1.2635968923568726 0.53125\n",
      "1 500 1.3278388977050781 0.53125\n",
      "2 0 0.9698949456214905 0.65625\n",
      "2 500 1.5373528003692627 0.484375\n",
      "3 0 1.0896217823028564 0.65625\n",
      "3 500 0.9602572321891785 0.71875\n",
      "4 0 0.9210845232009888 0.625\n",
      "4 500 1.0400537252426147 0.5625\n",
      "5 0 0.7237127423286438 0.765625\n",
      "5 500 0.8189454674720764 0.734375\n",
      "6 0 0.943873405456543 0.6875\n",
      "6 500 0.8325253129005432 0.703125\n",
      "7 0 0.7340182065963745 0.703125\n",
      "7 500 0.534659743309021 0.84375\n",
      "8 0 0.6964947581291199 0.71875\n",
      "8 500 0.6476435661315918 0.78125\n",
      "9 0 1.0015063285827637 0.671875\n",
      "9 500 0.687664270401001 0.796875\n",
      "10 0 0.472769170999527 0.84375\n",
      "10 500 0.5554885268211365 0.8125\n",
      "11 0 0.5426962971687317 0.828125\n",
      "11 500 0.7791496515274048 0.75\n",
      "12 0 0.46159234642982483 0.828125\n",
      "12 500 0.7271028161048889 0.78125\n",
      "13 0 0.5349158048629761 0.8125\n",
      "13 500 0.431968092918396 0.84375\n",
      "14 0 0.5033153891563416 0.84375\n",
      "14 500 0.46171948313713074 0.828125\n",
      "15 0 0.3923768997192383 0.875\n",
      "15 500 0.6352072358131409 0.796875\n",
      "16 0 0.5545149445533752 0.84375\n",
      "16 500 0.27018842101097107 0.90625\n",
      "17 0 0.35220596194267273 0.890625\n",
      "17 500 0.3264112174510956 0.875\n",
      "18 0 0.3514966368675232 0.890625\n",
      "18 500 0.44053080677986145 0.828125\n",
      "19 0 0.44316405057907104 0.875\n",
      "19 500 0.2908863127231598 0.875\n"
     ]
    }
   ],
   "source": [
    "# Training\n",
    "def train():\n",
    "    optimizer = torch.optim.Adam(model.parameters(), lr=1e-3)\n",
    "    loss_fun = torch.nn.CrossEntropyLoss()\n",
    "    model.train()\n",
    "\n",
    "    for epoch in range(20):\n",
    "        for i, (x, y) in enumerate(loader):\n",
    "            out = model(x)\n",
    "            loss = loss_fun(out, y)\n",
    "\n",
    "            loss.backward()\n",
    "            optimizer.step()\n",
    "            optimizer.zero_grad()\n",
    "\n",
    "            if i % 500 == 0:\n",
    "                acc = (out.argmax(dim=1) == y).sum().item() / len(y)\n",
    "                print(epoch, i, loss.item(), acc)\n",
    "\n",
    "    torch.save(model, 'image_model.model')\n",
    "\n",
    "train()"
   ]
  },
  {
   "cell_type": "code",
   "execution_count": 5,
   "id": "66d82251-78a4-40e9-abf6-9a9bc29249c1",
   "metadata": {},
   "outputs": [
    {
     "name": "stdout",
     "output_type": "stream",
     "text": [
      "Test Accuracy: 64.51%\n"
     ]
    }
   ],
   "source": [
    "# Testing the model on the last 10000 samples (test set)\n",
    "def test():\n",
    "    test_data = unpickle('Data/cifar-10-batches-py/test_batch')\n",
    "    test_images = test_data[b'data']\n",
    "    test_labels = test_data[b'labels']\n",
    "\n",
    "    # Convert test data to torch tensors\n",
    "    test_images = torch.FloatTensor(test_images.reshape(10000, 3, 32, 32)) / 255\n",
    "    test_labels = torch.tensor(test_labels, dtype=torch.long)\n",
    "\n",
    "    model.eval()\n",
    "    correct = 0\n",
    "    total = 0\n",
    "\n",
    "    with torch.no_grad():\n",
    "        test_loader = torch.utils.data.DataLoader(dataset=list(zip(test_images, test_labels)), batch_size=64, shuffle=False)\n",
    "        for x, y in test_loader:\n",
    "            out = model(x)\n",
    "            _, predicted = torch.max(out, 1)\n",
    "            total += y.size(0)\n",
    "            correct += (predicted == y).sum().item()\n",
    "\n",
    "    accuracy = correct / total\n",
    "    print(f'Test Accuracy: {accuracy * 100:.2f}%')\n",
    "\n",
    "test()"
   ]
  }
 ],
 "metadata": {
  "kernelspec": {
   "display_name": "Python (ML)",
   "language": "python",
   "name": "ml"
  },
  "language_info": {
   "codemirror_mode": {
    "name": "ipython",
    "version": 3
   },
   "file_extension": ".py",
   "mimetype": "text/x-python",
   "name": "python",
   "nbconvert_exporter": "python",
   "pygments_lexer": "ipython3",
   "version": "3.10.13"
  }
 },
 "nbformat": 4,
 "nbformat_minor": 5
}
